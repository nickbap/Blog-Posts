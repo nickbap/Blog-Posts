{
 "cells": [
  {
   "cell_type": "markdown",
   "metadata": {},
   "source": [
    "# PyDataset"
   ]
  },
  {
   "cell_type": "markdown",
   "metadata": {},
   "source": [
    "https://github.com/iamaziz/PyDataset"
   ]
  },
  {
   "cell_type": "code",
   "execution_count": 1,
   "metadata": {},
   "outputs": [],
   "source": [
    "# !pip install pydataset"
   ]
  },
  {
   "cell_type": "code",
   "execution_count": 2,
   "metadata": {},
   "outputs": [],
   "source": [
    "import pandas as pd\n",
    "import numpy as np\n",
    "\n",
    "from pydataset import data"
   ]
  },
  {
   "cell_type": "code",
   "execution_count": 3,
   "metadata": {},
   "outputs": [
    {
     "data": {
      "text/html": [
       "<div>\n",
       "<style>\n",
       "    .dataframe thead tr:only-child th {\n",
       "        text-align: right;\n",
       "    }\n",
       "\n",
       "    .dataframe thead th {\n",
       "        text-align: left;\n",
       "    }\n",
       "\n",
       "    .dataframe tbody tr th {\n",
       "        vertical-align: top;\n",
       "    }\n",
       "</style>\n",
       "<table border=\"1\" class=\"dataframe\">\n",
       "  <thead>\n",
       "    <tr style=\"text-align: right;\">\n",
       "      <th></th>\n",
       "      <th>dataset_id</th>\n",
       "      <th>title</th>\n",
       "    </tr>\n",
       "  </thead>\n",
       "  <tbody>\n",
       "    <tr>\n",
       "      <th>183</th>\n",
       "      <td>AMSsurvey</td>\n",
       "      <td>American Math Society Survey Data</td>\n",
       "    </tr>\n",
       "    <tr>\n",
       "      <th>261</th>\n",
       "      <td>Accident</td>\n",
       "      <td>Ship Accidents</td>\n",
       "    </tr>\n",
       "    <tr>\n",
       "      <th>184</th>\n",
       "      <td>Adler</td>\n",
       "      <td>Experimenter Expectations</td>\n",
       "    </tr>\n",
       "    <tr>\n",
       "      <th>429</th>\n",
       "      <td>Aids2</td>\n",
       "      <td>Australian AIDS Survival Data</td>\n",
       "    </tr>\n",
       "    <tr>\n",
       "      <th>0</th>\n",
       "      <td>AirPassengers</td>\n",
       "      <td>Monthly Airline Passenger Numbers 1949-1960</td>\n",
       "    </tr>\n",
       "  </tbody>\n",
       "</table>\n",
       "</div>"
      ],
      "text/plain": [
       "        dataset_id                                        title\n",
       "183      AMSsurvey            American Math Society Survey Data\n",
       "261       Accident                               Ship Accidents\n",
       "184          Adler                    Experimenter Expectations\n",
       "429          Aids2                Australian AIDS Survival Data\n",
       "0    AirPassengers  Monthly Airline Passenger Numbers 1949-1960"
      ]
     },
     "execution_count": 3,
     "metadata": {},
     "output_type": "execute_result"
    }
   ],
   "source": [
    "data().sort_values('dataset_id').head()"
   ]
  },
  {
   "cell_type": "code",
   "execution_count": 4,
   "metadata": {},
   "outputs": [
    {
     "name": "stdout",
     "output_type": "stream",
     "text": [
      "Cars93\n",
      "\n",
      "PyDataset Documentation (adopted from R Documentation. The displayed examples are in R)\n",
      "\n",
      "##  Data from 93 Cars on Sale in the USA in 1993\n",
      "\n",
      "### Description\n",
      "\n",
      "The `Cars93` data frame has 93 rows and 27 columns.\n",
      "\n",
      "### Usage\n",
      "\n",
      "    Cars93\n",
      "\n",
      "### Format\n",
      "\n",
      "This data frame contains the following columns:\n",
      "\n",
      "`Manufacturer`\n",
      "\n",
      "Manufacturer.\n",
      "\n",
      "`Model`\n",
      "\n",
      "Model.\n",
      "\n",
      "`Type`\n",
      "\n",
      "Type: a factor with levels `\"Small\"`, `\"Sporty\"`, `\"Compact\"`, `\"Midsize\"`,\n",
      "`\"Large\"` and `\"Van\"`.\n",
      "\n",
      "`Min.Price`\n",
      "\n",
      "Minimum Price (in \\$1,000): price for a basic version.\n",
      "\n",
      "`Price`\n",
      "\n",
      "Midrange Price (in \\$1,000): average of `Min.Price` and `Max.Price`.\n",
      "\n",
      "`Max.Price`\n",
      "\n",
      "Maximum Price (in \\$1,000): price for “a premium version”.\n",
      "\n",
      "`MPG.city`\n",
      "\n",
      "City MPG (miles per US gallon by EPA rating).\n",
      "\n",
      "`MPG.highway`\n",
      "\n",
      "Highway MPG.\n",
      "\n",
      "`AirBags`\n",
      "\n",
      "Air Bags standard. Factor: none, driver only, or driver & passenger.\n",
      "\n",
      "`DriveTrain`\n",
      "\n",
      "Drive train type: rear wheel, front wheel or 4WD; (factor).\n",
      "\n",
      "`Cylinders`\n",
      "\n",
      "Number of cylinders (missing for Mazda RX-7, which has a rotary engine).\n",
      "\n",
      "`EngineSize`\n",
      "\n",
      "Engine size (litres).\n",
      "\n",
      "`Horsepower`\n",
      "\n",
      "Horsepower (maximum).\n",
      "\n",
      "`RPM`\n",
      "\n",
      "RPM (revs per minute at maximum horsepower).\n",
      "\n",
      "`Rev.per.mile`\n",
      "\n",
      "Engine revolutions per mile (in highest gear).\n",
      "\n",
      "`Man.trans.avail`\n",
      "\n",
      "Is a manual transmission version available? (yes or no, Factor).\n",
      "\n",
      "`Fuel.tank.capacity`\n",
      "\n",
      "Fuel tank capacity (US gallons).\n",
      "\n",
      "`Passengers`\n",
      "\n",
      "Passenger capacity (persons)\n",
      "\n",
      "`Length`\n",
      "\n",
      "Length (inches).\n",
      "\n",
      "`Wheelbase`\n",
      "\n",
      "Wheelbase (inches).\n",
      "\n",
      "`Width`\n",
      "\n",
      "Width (inches).\n",
      "\n",
      "`Turn.circle`\n",
      "\n",
      "U-turn space (feet).\n",
      "\n",
      "`Rear.seat.room`\n",
      "\n",
      "Rear seat room (inches) (missing for 2-seater vehicles).\n",
      "\n",
      "`Luggage.room`\n",
      "\n",
      "Luggage capacity (cubic feet) (missing for vans).\n",
      "\n",
      "`Weight`\n",
      "\n",
      "Weight (pounds).\n",
      "\n",
      "`Origin`\n",
      "\n",
      "Of non-USA or USA company origins? (factor).\n",
      "\n",
      "`Make`\n",
      "\n",
      "Combination of Manufacturer and Model (character).\n",
      "\n",
      "### Details\n",
      "\n",
      "Cars were selected at random from among 1993 passenger car models that were\n",
      "listed in both the _Consumer Reports_ issue and the _PACE Buying Guide_.\n",
      "Pickup trucks and Sport/Utility vehicles were eliminated due to incomplete\n",
      "information in the _Consumer Reports_ source. Duplicate models (e.g., Dodge\n",
      "Shadow and Plymouth Sundance) were listed at most once.\n",
      "\n",
      "Further description can be found in Lock (1993).\n",
      "\n",
      "### Source\n",
      "\n",
      "Lock, R. H. (1993) 1993 New Car Data. _Journal of Statistics Education_\n",
      "**1**(1). http://www.amstat.org/publications/jse/v1n1/datasets.lock.html.\n",
      "\n",
      "### References\n",
      "\n",
      "Venables, W. N. and Ripley, B. D. (1999) _Modern Applied Statistics with\n",
      "S-PLUS._ Third Edition. Springer.\n",
      "\n",
      "\n"
     ]
    }
   ],
   "source": [
    "data('Cars93', show_doc=True)"
   ]
  },
  {
   "cell_type": "code",
   "execution_count": 5,
   "metadata": {},
   "outputs": [],
   "source": [
    "df = data('Cars93')"
   ]
  },
  {
   "cell_type": "code",
   "execution_count": 6,
   "metadata": {},
   "outputs": [
    {
     "data": {
      "text/html": [
       "<div>\n",
       "<style>\n",
       "    .dataframe thead tr:only-child th {\n",
       "        text-align: right;\n",
       "    }\n",
       "\n",
       "    .dataframe thead th {\n",
       "        text-align: left;\n",
       "    }\n",
       "\n",
       "    .dataframe tbody tr th {\n",
       "        vertical-align: top;\n",
       "    }\n",
       "</style>\n",
       "<table border=\"1\" class=\"dataframe\">\n",
       "  <thead>\n",
       "    <tr style=\"text-align: right;\">\n",
       "      <th></th>\n",
       "      <th>Manufacturer</th>\n",
       "      <th>Model</th>\n",
       "      <th>Type</th>\n",
       "      <th>Min.Price</th>\n",
       "      <th>Price</th>\n",
       "      <th>Max.Price</th>\n",
       "      <th>MPG.city</th>\n",
       "      <th>MPG.highway</th>\n",
       "      <th>AirBags</th>\n",
       "      <th>DriveTrain</th>\n",
       "      <th>...</th>\n",
       "      <th>Passengers</th>\n",
       "      <th>Length</th>\n",
       "      <th>Wheelbase</th>\n",
       "      <th>Width</th>\n",
       "      <th>Turn.circle</th>\n",
       "      <th>Rear.seat.room</th>\n",
       "      <th>Luggage.room</th>\n",
       "      <th>Weight</th>\n",
       "      <th>Origin</th>\n",
       "      <th>Make</th>\n",
       "    </tr>\n",
       "  </thead>\n",
       "  <tbody>\n",
       "    <tr>\n",
       "      <th>1</th>\n",
       "      <td>Acura</td>\n",
       "      <td>Integra</td>\n",
       "      <td>Small</td>\n",
       "      <td>12.9</td>\n",
       "      <td>15.9</td>\n",
       "      <td>18.8</td>\n",
       "      <td>25</td>\n",
       "      <td>31</td>\n",
       "      <td>None</td>\n",
       "      <td>Front</td>\n",
       "      <td>...</td>\n",
       "      <td>5</td>\n",
       "      <td>177</td>\n",
       "      <td>102</td>\n",
       "      <td>68</td>\n",
       "      <td>37</td>\n",
       "      <td>26.5</td>\n",
       "      <td>11.0</td>\n",
       "      <td>2705</td>\n",
       "      <td>non-USA</td>\n",
       "      <td>Acura Integra</td>\n",
       "    </tr>\n",
       "    <tr>\n",
       "      <th>2</th>\n",
       "      <td>Acura</td>\n",
       "      <td>Legend</td>\n",
       "      <td>Midsize</td>\n",
       "      <td>29.2</td>\n",
       "      <td>33.9</td>\n",
       "      <td>38.7</td>\n",
       "      <td>18</td>\n",
       "      <td>25</td>\n",
       "      <td>Driver &amp; Passenger</td>\n",
       "      <td>Front</td>\n",
       "      <td>...</td>\n",
       "      <td>5</td>\n",
       "      <td>195</td>\n",
       "      <td>115</td>\n",
       "      <td>71</td>\n",
       "      <td>38</td>\n",
       "      <td>30.0</td>\n",
       "      <td>15.0</td>\n",
       "      <td>3560</td>\n",
       "      <td>non-USA</td>\n",
       "      <td>Acura Legend</td>\n",
       "    </tr>\n",
       "    <tr>\n",
       "      <th>3</th>\n",
       "      <td>Audi</td>\n",
       "      <td>90</td>\n",
       "      <td>Compact</td>\n",
       "      <td>25.9</td>\n",
       "      <td>29.1</td>\n",
       "      <td>32.3</td>\n",
       "      <td>20</td>\n",
       "      <td>26</td>\n",
       "      <td>Driver only</td>\n",
       "      <td>Front</td>\n",
       "      <td>...</td>\n",
       "      <td>5</td>\n",
       "      <td>180</td>\n",
       "      <td>102</td>\n",
       "      <td>67</td>\n",
       "      <td>37</td>\n",
       "      <td>28.0</td>\n",
       "      <td>14.0</td>\n",
       "      <td>3375</td>\n",
       "      <td>non-USA</td>\n",
       "      <td>Audi 90</td>\n",
       "    </tr>\n",
       "    <tr>\n",
       "      <th>4</th>\n",
       "      <td>Audi</td>\n",
       "      <td>100</td>\n",
       "      <td>Midsize</td>\n",
       "      <td>30.8</td>\n",
       "      <td>37.7</td>\n",
       "      <td>44.6</td>\n",
       "      <td>19</td>\n",
       "      <td>26</td>\n",
       "      <td>Driver &amp; Passenger</td>\n",
       "      <td>Front</td>\n",
       "      <td>...</td>\n",
       "      <td>6</td>\n",
       "      <td>193</td>\n",
       "      <td>106</td>\n",
       "      <td>70</td>\n",
       "      <td>37</td>\n",
       "      <td>31.0</td>\n",
       "      <td>17.0</td>\n",
       "      <td>3405</td>\n",
       "      <td>non-USA</td>\n",
       "      <td>Audi 100</td>\n",
       "    </tr>\n",
       "    <tr>\n",
       "      <th>5</th>\n",
       "      <td>BMW</td>\n",
       "      <td>535i</td>\n",
       "      <td>Midsize</td>\n",
       "      <td>23.7</td>\n",
       "      <td>30.0</td>\n",
       "      <td>36.2</td>\n",
       "      <td>22</td>\n",
       "      <td>30</td>\n",
       "      <td>Driver only</td>\n",
       "      <td>Rear</td>\n",
       "      <td>...</td>\n",
       "      <td>4</td>\n",
       "      <td>186</td>\n",
       "      <td>109</td>\n",
       "      <td>69</td>\n",
       "      <td>39</td>\n",
       "      <td>27.0</td>\n",
       "      <td>13.0</td>\n",
       "      <td>3640</td>\n",
       "      <td>non-USA</td>\n",
       "      <td>BMW 535i</td>\n",
       "    </tr>\n",
       "  </tbody>\n",
       "</table>\n",
       "<p>5 rows × 27 columns</p>\n",
       "</div>"
      ],
      "text/plain": [
       "  Manufacturer    Model     Type  Min.Price  Price  Max.Price  MPG.city  \\\n",
       "1        Acura  Integra    Small       12.9   15.9       18.8        25   \n",
       "2        Acura   Legend  Midsize       29.2   33.9       38.7        18   \n",
       "3         Audi       90  Compact       25.9   29.1       32.3        20   \n",
       "4         Audi      100  Midsize       30.8   37.7       44.6        19   \n",
       "5          BMW     535i  Midsize       23.7   30.0       36.2        22   \n",
       "\n",
       "   MPG.highway             AirBags DriveTrain      ...       Passengers  \\\n",
       "1           31                None      Front      ...                5   \n",
       "2           25  Driver & Passenger      Front      ...                5   \n",
       "3           26         Driver only      Front      ...                5   \n",
       "4           26  Driver & Passenger      Front      ...                6   \n",
       "5           30         Driver only       Rear      ...                4   \n",
       "\n",
       "   Length  Wheelbase  Width  Turn.circle Rear.seat.room  Luggage.room  Weight  \\\n",
       "1     177        102     68           37           26.5          11.0    2705   \n",
       "2     195        115     71           38           30.0          15.0    3560   \n",
       "3     180        102     67           37           28.0          14.0    3375   \n",
       "4     193        106     70           37           31.0          17.0    3405   \n",
       "5     186        109     69           39           27.0          13.0    3640   \n",
       "\n",
       "    Origin           Make  \n",
       "1  non-USA  Acura Integra  \n",
       "2  non-USA   Acura Legend  \n",
       "3  non-USA        Audi 90  \n",
       "4  non-USA       Audi 100  \n",
       "5  non-USA       BMW 535i  \n",
       "\n",
       "[5 rows x 27 columns]"
      ]
     },
     "execution_count": 6,
     "metadata": {},
     "output_type": "execute_result"
    }
   ],
   "source": [
    "df.head()"
   ]
  },
  {
   "cell_type": "markdown",
   "metadata": {},
   "source": [
    "# Value Counts"
   ]
  },
  {
   "cell_type": "code",
   "execution_count": 7,
   "metadata": {},
   "outputs": [
    {
     "data": {
      "text/plain": [
       "Ford             8\n",
       "Chevrolet        8\n",
       "Dodge            6\n",
       "Pontiac          5\n",
       "Mazda            5\n",
       "Oldsmobile       4\n",
       "Nissan           4\n",
       "Volkswagen       4\n",
       "Hyundai          4\n",
       "Toyota           4\n",
       "Buick            4\n",
       "Honda            3\n",
       "Subaru           3\n",
       "Cadillac         2\n",
       "Chrysler         2\n",
       "Lincoln          2\n",
       "Mercury          2\n",
       "Mitsubishi       2\n",
       "Acura            2\n",
       "Audi             2\n",
       "Eagle            2\n",
       "Lexus            2\n",
       "Geo              2\n",
       "Mercedes-Benz    2\n",
       "Volvo            2\n",
       "Infiniti         1\n",
       "Plymouth         1\n",
       "Saturn           1\n",
       "BMW              1\n",
       "Chrylser         1\n",
       "Suzuki           1\n",
       "Saab             1\n",
       "Name: Manufacturer, dtype: int64"
      ]
     },
     "execution_count": 7,
     "metadata": {},
     "output_type": "execute_result"
    }
   ],
   "source": [
    "df['Manufacturer'].value_counts()"
   ]
  },
  {
   "cell_type": "markdown",
   "metadata": {},
   "source": [
    "# Is In"
   ]
  },
  {
   "cell_type": "markdown",
   "metadata": {},
   "source": [
    "`Passengers`\n",
    "\n",
    "Passenger capacity (persons)"
   ]
  },
  {
   "cell_type": "code",
   "execution_count": 8,
   "metadata": {},
   "outputs": [
    {
     "data": {
      "text/plain": [
       "array([2, 4, 5, 6, 7, 8])"
      ]
     },
     "execution_count": 8,
     "metadata": {},
     "output_type": "execute_result"
    }
   ],
   "source": [
    "df['Passengers'].sort_values().unique()"
   ]
  },
  {
   "cell_type": "code",
   "execution_count": 9,
   "metadata": {},
   "outputs": [],
   "source": [
    "seats_neeeded = [4, 5]"
   ]
  },
  {
   "cell_type": "code",
   "execution_count": 10,
   "metadata": {},
   "outputs": [
    {
     "data": {
      "text/plain": [
       "Ford             6\n",
       "Pontiac          4\n",
       "Hyundai          4\n",
       "Subaru           3\n",
       "Volkswagen       3\n",
       "Chevrolet        3\n",
       "Nissan           3\n",
       "Mazda            3\n",
       "Dodge            3\n",
       "Toyota           3\n",
       "Honda            3\n",
       "Mercury          2\n",
       "Mitsubishi       2\n",
       "Acura            2\n",
       "Mercedes-Benz    2\n",
       "Oldsmobile       2\n",
       "Volvo            2\n",
       "Geo              2\n",
       "Lexus            2\n",
       "Suzuki           1\n",
       "Buick            1\n",
       "Saab             1\n",
       "Audi             1\n",
       "Plymouth         1\n",
       "Cadillac         1\n",
       "BMW              1\n",
       "Infiniti         1\n",
       "Saturn           1\n",
       "Eagle            1\n",
       "Name: Manufacturer, dtype: int64"
      ]
     },
     "execution_count": 10,
     "metadata": {},
     "output_type": "execute_result"
    }
   ],
   "source": [
    "df[df['Passengers'].isin(seats_neeeded)]['Manufacturer'].value_counts()"
   ]
  },
  {
   "cell_type": "markdown",
   "metadata": {},
   "source": [
    "# Where"
   ]
  },
  {
   "cell_type": "code",
   "execution_count": 11,
   "metadata": {},
   "outputs": [],
   "source": [
    "df['Consideration'] = np.where(df['Passengers'].isin(seats_neeeded), 'Consider', 'Not For Me')"
   ]
  },
  {
   "cell_type": "code",
   "execution_count": 12,
   "metadata": {},
   "outputs": [
    {
     "data": {
      "text/plain": [
       "Consider      64\n",
       "Not For Me    29\n",
       "Name: Consideration, dtype: int64"
      ]
     },
     "execution_count": 12,
     "metadata": {},
     "output_type": "execute_result"
    }
   ],
   "source": [
    "df['Consideration'].value_counts()"
   ]
  },
  {
   "cell_type": "markdown",
   "metadata": {},
   "source": [
    "# Bonus - Jupyter Magic"
   ]
  },
  {
   "cell_type": "markdown",
   "metadata": {},
   "source": [
    "@python_tip - https://twitter.com/python_tip\n",
    "\n",
    "tweet - https://twitter.com/python_tip/status/1101511420141846528"
   ]
  },
  {
   "cell_type": "code",
   "execution_count": 13,
   "metadata": {},
   "outputs": [
    {
     "name": "stdout",
     "output_type": "stream",
     "text": [
      "Variable        Type         Data/Info\n",
      "--------------------------------------\n",
      "data            function     <function data at 0x11536bae8>\n",
      "df              DataFrame         Manufacturer        <...>n\\n[93 rows x 28 columns]\n",
      "np              module       <module 'numpy' from '/Us<...>kages/numpy/__init__.py'>\n",
      "pd              module       <module 'pandas' from '/U<...>ages/pandas/__init__.py'>\n",
      "seats_neeeded   list         n=2\n"
     ]
    }
   ],
   "source": [
    "%whos"
   ]
  }
 ],
 "metadata": {
  "kernelspec": {
   "display_name": "Python 3",
   "language": "python",
   "name": "python3"
  },
  "language_info": {
   "codemirror_mode": {
    "name": "ipython",
    "version": 3
   },
   "file_extension": ".py",
   "mimetype": "text/x-python",
   "name": "python",
   "nbconvert_exporter": "python",
   "pygments_lexer": "ipython3",
   "version": "3.6.4"
  }
 },
 "nbformat": 4,
 "nbformat_minor": 2
}
